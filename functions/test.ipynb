{
 "cells": [
  {
   "cell_type": "code",
   "execution_count": 9,
   "metadata": {},
   "outputs": [],
   "source": [
    "from scrape_tokped import scrape_tokopedia\n",
    "from extract_aspect import get_aspect\n",
    "from get_sentiment import get_sentiment\n",
    "import pandas as pd"
   ]
  },
  {
   "cell_type": "code",
   "execution_count": 2,
   "metadata": {},
   "outputs": [],
   "source": [
    "url = 'https://www.tokopedia.com/sneakersdept/sepatu-sneakers-unisex-reebok-bb-4000-ii-100033315-original-45-a0f9f?extParam=ivf%3Dfalse%26keyword%3Dreebok%26search_id%3D202406261126444FD811CE401E5C260302%26src%3Dsearch'\n",
    "reviews = scrape_tokopedia(url)"
   ]
  },
  {
   "cell_type": "code",
   "execution_count": 3,
   "metadata": {},
   "outputs": [
    {
     "name": "stdout",
     "output_type": "stream",
     "text": [
      "16\n",
      "<class 'pandas.core.frame.DataFrame'>\n",
      "                                              review rating\n",
      "0  kwalitas original, di pakai nya nyaman di kaki...      5\n",
      "1  ukuran sesuai, barang sesuai deskripsi, idk be...      5\n",
      "2                                    barangnya bagus      5\n",
      "3                                  ok sesuai pesanan      5\n",
      "4  Sepatu yang jarang ada, sekilas kualitasnya ba...      5\n"
     ]
    }
   ],
   "source": [
    "print(len(reviews))\n",
    "# check type\n",
    "print(type(reviews))\n",
    "# get first 5 reviews\n",
    "print(reviews[:5])"
   ]
  },
  {
   "cell_type": "code",
   "execution_count": 4,
   "metadata": {},
   "outputs": [
    {
     "name": "stdout",
     "output_type": "stream",
     "text": [
      "Using cpu\n"
     ]
    }
   ],
   "source": [
    "results = get_aspect(reviews)"
   ]
  },
  {
   "cell_type": "code",
   "execution_count": 5,
   "metadata": {},
   "outputs": [
    {
     "name": "stdout",
     "output_type": "stream",
     "text": [
      "Using cpu\n"
     ]
    }
   ],
   "source": [
    "results = get_sentiment(results)"
   ]
  },
  {
   "cell_type": "code",
   "execution_count": 6,
   "metadata": {},
   "outputs": [
    {
     "data": {
      "text/plain": [
       "[{'review': 'kwalitas original, di pakai nya nyaman di kaki...\\nmantap... 👍',\n",
       "  'aspect': 'barang',\n",
       "  'sentiment': 'Positive'},\n",
       " {'review': 'ukuran sesuai, barang sesuai deskripsi, idk bedain ori ngga but from what i see.. definitely original..',\n",
       "  'aspect': 'barang',\n",
       "  'sentiment': 'Positive'},\n",
       " {'review': 'barangnya bagus', 'aspect': 'barang', 'sentiment': 'Positive'},\n",
       " {'review': 'ok sesuai pesanan', 'aspect': 'barang', 'sentiment': 'Positive'},\n",
       " {'review': 'Sepatu yang jarang ada, sekilas kualitasnya bagus. Semoga sepatunya bisa awet.',\n",
       "  'aspect': 'barang',\n",
       "  'sentiment': 'Positive'},\n",
       " {'review': 'sesuai deskripsi, packing rapih & aman, pengiriman on time,',\n",
       "  'aspect': 'pengiriman',\n",
       "  'sentiment': 'Positive'},\n",
       " {'review': 'sesuai deskripsi, packing rapih & aman, pengiriman on time,',\n",
       "  'aspect': 'barang',\n",
       "  'sentiment': 'Positive'},\n",
       " {'review': 'model dan kualitas dijamin ori. semoga awet.',\n",
       "  'aspect': 'barang',\n",
       "  'sentiment': 'Positive'},\n",
       " {'review': 'Sesuai pesanan, desain bgs. semoga awet😁.',\n",
       "  'aspect': 'barang',\n",
       "  'sentiment': 'Positive'},\n",
       " {'review': 'original. Reebok. harga murah. terjangkau. pengiriman cepat. ukuran sesuai. dah beli ketiga di sini. Mantap pokoknya',\n",
       "  'aspect': 'pengiriman',\n",
       "  'sentiment': 'Positive'},\n",
       " {'review': 'original. Reebok. harga murah. terjangkau. pengiriman cepat. ukuran sesuai. dah beli ketiga di sini. Mantap pokoknya',\n",
       "  'aspect': 'barang',\n",
       "  'sentiment': 'Positive'},\n",
       " {'review': 'model keren...sesuai produknya...packing double dus',\n",
       "  'aspect': 'barang',\n",
       "  'sentiment': 'Positive'},\n",
       " {'review': 'Pengirimannya cepat, packing sangat rapih, barang sesuai orderan. Mantapp',\n",
       "  'aspect': 'pengiriman',\n",
       "  'sentiment': 'Positive'},\n",
       " {'review': 'Pengirimannya cepat, packing sangat rapih, barang sesuai orderan. Mantapp',\n",
       "  'aspect': 'barang',\n",
       "  'sentiment': 'Positive'},\n",
       " {'review': 'Sepatunya keren banget, mantap',\n",
       "  'aspect': 'barang',\n",
       "  'sentiment': 'Positive'},\n",
       " {'review': 'di deskripsi tertulis \"Order yang masuk diatas jam close order kami, akan di proses di hari selanjut nya\". tapi saya order di bawah jam close tetep dikirim nya h+... ',\n",
       "  'aspect': 'pelayanan',\n",
       "  'sentiment': 'Negative'},\n",
       " {'review': 'di deskripsi tertulis \"Order yang masuk diatas jam close order kami, akan di proses di hari selanjut nya\". tapi saya order di bawah jam close tetep dikirim nya h+... ',\n",
       "  'aspect': 'barang',\n",
       "  'sentiment': 'Negative'},\n",
       " {'review': 'Mantap modelnya 👟 Desainnya keren 👍 Packaging aman 🙏',\n",
       "  'aspect': 'pengiriman',\n",
       "  'sentiment': 'Positive'},\n",
       " {'review': 'Mantap modelnya 👟 Desainnya keren 👍 Packaging aman 🙏',\n",
       "  'aspect': 'barang',\n",
       "  'sentiment': 'Positive'},\n",
       " {'review': 'Sepatunya nyaman Desainnya keren 👍 Mantap modelnya 👟 Bahannya berkualitas Ukuran sesuai Proses pesanan cepat Packaging aman 🙏 Respon penjualnya top Packaging rapi Penj... ',\n",
       "  'aspect': 'pelayanan',\n",
       "  'sentiment': 'Positive'},\n",
       " {'review': 'Sepatunya nyaman Desainnya keren 👍 Mantap modelnya 👟 Bahannya berkualitas Ukuran sesuai Proses pesanan cepat Packaging aman 🙏 Respon penjualnya top Packaging rapi Penj... ',\n",
       "  'aspect': 'pengiriman',\n",
       "  'sentiment': 'Positive'},\n",
       " {'review': 'Sepatunya nyaman Desainnya keren 👍 Mantap modelnya 👟 Bahannya berkualitas Ukuran sesuai Proses pesanan cepat Packaging aman 🙏 Respon penjualnya top Packaging rapi Penj... ',\n",
       "  'aspect': 'barang',\n",
       "  'sentiment': 'Positive'},\n",
       " {'review': 'Pembelian kesekian-sekian,...respon penjual selalu yg terbaik, kualitas sepatu gak usa diragukan. Terima kasih.',\n",
       "  'aspect': 'pelayanan',\n",
       "  'sentiment': 'Positive'},\n",
       " {'review': 'Pembelian kesekian-sekian,...respon penjual selalu yg terbaik, kualitas sepatu gak usa diragukan. Terima kasih.',\n",
       "  'aspect': 'barang',\n",
       "  'sentiment': 'Positive'}]"
      ]
     },
     "execution_count": 6,
     "metadata": {},
     "output_type": "execute_result"
    }
   ],
   "source": [
    "results"
   ]
  },
  {
   "cell_type": "code",
   "execution_count": 7,
   "metadata": {},
   "outputs": [
    {
     "data": {
      "text/plain": [
       "24"
      ]
     },
     "execution_count": 7,
     "metadata": {},
     "output_type": "execute_result"
    }
   ],
   "source": [
    "len(results)"
   ]
  },
  {
   "cell_type": "code",
   "execution_count": 10,
   "metadata": {},
   "outputs": [],
   "source": [
    "# convert to dataframe\n",
    "pd = pd.DataFrame(results)"
   ]
  },
  {
   "cell_type": "code",
   "execution_count": 13,
   "metadata": {},
   "outputs": [
    {
     "data": {
      "text/html": [
       "<div>\n",
       "<style scoped>\n",
       "    .dataframe tbody tr th:only-of-type {\n",
       "        vertical-align: middle;\n",
       "    }\n",
       "\n",
       "    .dataframe tbody tr th {\n",
       "        vertical-align: top;\n",
       "    }\n",
       "\n",
       "    .dataframe thead th {\n",
       "        text-align: right;\n",
       "    }\n",
       "</style>\n",
       "<table border=\"1\" class=\"dataframe\">\n",
       "  <thead>\n",
       "    <tr style=\"text-align: right;\">\n",
       "      <th></th>\n",
       "      <th>review</th>\n",
       "      <th>sentiment</th>\n",
       "    </tr>\n",
       "    <tr>\n",
       "      <th>aspect</th>\n",
       "      <th></th>\n",
       "      <th></th>\n",
       "    </tr>\n",
       "  </thead>\n",
       "  <tbody>\n",
       "    <tr>\n",
       "      <th>barang</th>\n",
       "      <td>16</td>\n",
       "      <td>16</td>\n",
       "    </tr>\n",
       "    <tr>\n",
       "      <th>pelayanan</th>\n",
       "      <td>3</td>\n",
       "      <td>3</td>\n",
       "    </tr>\n",
       "    <tr>\n",
       "      <th>pengiriman</th>\n",
       "      <td>5</td>\n",
       "      <td>5</td>\n",
       "    </tr>\n",
       "  </tbody>\n",
       "</table>\n",
       "</div>"
      ],
      "text/plain": [
       "            review  sentiment\n",
       "aspect                       \n",
       "barang          16         16\n",
       "pelayanan        3          3\n",
       "pengiriman       5          5"
      ]
     },
     "execution_count": 13,
     "metadata": {},
     "output_type": "execute_result"
    }
   ],
   "source": [
    "pd.groupby('aspect').count()"
   ]
  },
  {
   "cell_type": "code",
   "execution_count": 14,
   "metadata": {},
   "outputs": [
    {
     "data": {
      "text/html": [
       "<div>\n",
       "<style scoped>\n",
       "    .dataframe tbody tr th:only-of-type {\n",
       "        vertical-align: middle;\n",
       "    }\n",
       "\n",
       "    .dataframe tbody tr th {\n",
       "        vertical-align: top;\n",
       "    }\n",
       "\n",
       "    .dataframe thead th {\n",
       "        text-align: right;\n",
       "    }\n",
       "</style>\n",
       "<table border=\"1\" class=\"dataframe\">\n",
       "  <thead>\n",
       "    <tr style=\"text-align: right;\">\n",
       "      <th></th>\n",
       "      <th>review</th>\n",
       "      <th>aspect</th>\n",
       "    </tr>\n",
       "    <tr>\n",
       "      <th>sentiment</th>\n",
       "      <th></th>\n",
       "      <th></th>\n",
       "    </tr>\n",
       "  </thead>\n",
       "  <tbody>\n",
       "    <tr>\n",
       "      <th>Negative</th>\n",
       "      <td>2</td>\n",
       "      <td>2</td>\n",
       "    </tr>\n",
       "    <tr>\n",
       "      <th>Positive</th>\n",
       "      <td>22</td>\n",
       "      <td>22</td>\n",
       "    </tr>\n",
       "  </tbody>\n",
       "</table>\n",
       "</div>"
      ],
      "text/plain": [
       "           review  aspect\n",
       "sentiment                \n",
       "Negative        2       2\n",
       "Positive       22      22"
      ]
     },
     "execution_count": 14,
     "metadata": {},
     "output_type": "execute_result"
    }
   ],
   "source": [
    "pd.groupby('sentiment').count()"
   ]
  },
  {
   "cell_type": "code",
   "execution_count": 21,
   "metadata": {},
   "outputs": [
    {
     "data": {
      "text/html": [
       "<div>\n",
       "<style scoped>\n",
       "    .dataframe tbody tr th:only-of-type {\n",
       "        vertical-align: middle;\n",
       "    }\n",
       "\n",
       "    .dataframe tbody tr th {\n",
       "        vertical-align: top;\n",
       "    }\n",
       "\n",
       "    .dataframe thead th {\n",
       "        text-align: right;\n",
       "    }\n",
       "</style>\n",
       "<table border=\"1\" class=\"dataframe\">\n",
       "  <thead>\n",
       "    <tr style=\"text-align: right;\">\n",
       "      <th></th>\n",
       "      <th>review</th>\n",
       "      <th>sentiment</th>\n",
       "    </tr>\n",
       "    <tr>\n",
       "      <th>aspect</th>\n",
       "      <th></th>\n",
       "      <th></th>\n",
       "    </tr>\n",
       "  </thead>\n",
       "  <tbody>\n",
       "    <tr>\n",
       "      <th>barang</th>\n",
       "      <td>15</td>\n",
       "      <td>15</td>\n",
       "    </tr>\n",
       "    <tr>\n",
       "      <th>pelayanan</th>\n",
       "      <td>2</td>\n",
       "      <td>2</td>\n",
       "    </tr>\n",
       "    <tr>\n",
       "      <th>pengiriman</th>\n",
       "      <td>5</td>\n",
       "      <td>5</td>\n",
       "    </tr>\n",
       "  </tbody>\n",
       "</table>\n",
       "</div>"
      ],
      "text/plain": [
       "            review  sentiment\n",
       "aspect                       \n",
       "barang          15         15\n",
       "pelayanan        2          2\n",
       "pengiriman       5          5"
      ]
     },
     "execution_count": 21,
     "metadata": {},
     "output_type": "execute_result"
    }
   ],
   "source": [
    "pd[pd['sentiment'] == 'Positive'].groupby('aspect').count()"
   ]
  },
  {
   "cell_type": "code",
   "execution_count": 18,
   "metadata": {},
   "outputs": [
    {
     "data": {
      "text/html": [
       "<div>\n",
       "<style scoped>\n",
       "    .dataframe tbody tr th:only-of-type {\n",
       "        vertical-align: middle;\n",
       "    }\n",
       "\n",
       "    .dataframe tbody tr th {\n",
       "        vertical-align: top;\n",
       "    }\n",
       "\n",
       "    .dataframe thead th {\n",
       "        text-align: right;\n",
       "    }\n",
       "</style>\n",
       "<table border=\"1\" class=\"dataframe\">\n",
       "  <thead>\n",
       "    <tr style=\"text-align: right;\">\n",
       "      <th></th>\n",
       "      <th>review</th>\n",
       "      <th>sentiment</th>\n",
       "    </tr>\n",
       "    <tr>\n",
       "      <th>aspect</th>\n",
       "      <th></th>\n",
       "      <th></th>\n",
       "    </tr>\n",
       "  </thead>\n",
       "  <tbody>\n",
       "    <tr>\n",
       "      <th>barang</th>\n",
       "      <td>1</td>\n",
       "      <td>1</td>\n",
       "    </tr>\n",
       "    <tr>\n",
       "      <th>pelayanan</th>\n",
       "      <td>1</td>\n",
       "      <td>1</td>\n",
       "    </tr>\n",
       "  </tbody>\n",
       "</table>\n",
       "</div>"
      ],
      "text/plain": [
       "           review  sentiment\n",
       "aspect                      \n",
       "barang          1          1\n",
       "pelayanan       1          1"
      ]
     },
     "execution_count": 18,
     "metadata": {},
     "output_type": "execute_result"
    }
   ],
   "source": [
    "pd[pd['sentiment'] == 'Negative'].groupby('aspect').count()"
   ]
  },
  {
   "cell_type": "code",
   "execution_count": null,
   "metadata": {},
   "outputs": [],
   "source": []
  }
 ],
 "metadata": {
  "kernelspec": {
   "display_name": "Python 3",
   "language": "python",
   "name": "python3"
  },
  "language_info": {
   "codemirror_mode": {
    "name": "ipython",
    "version": 3
   },
   "file_extension": ".py",
   "mimetype": "text/x-python",
   "name": "python",
   "nbconvert_exporter": "python",
   "pygments_lexer": "ipython3",
   "version": "3.12.4"
  }
 },
 "nbformat": 4,
 "nbformat_minor": 2
}
